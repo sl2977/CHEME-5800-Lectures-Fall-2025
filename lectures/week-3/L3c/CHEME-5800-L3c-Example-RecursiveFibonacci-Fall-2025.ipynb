{
 "cells": [
  {
   "cell_type": "markdown",
   "id": "c082af40-9f82-4b8c-a289-4514cc5f385c",
   "metadata": {},
   "source": [
    "# Example: Recursive Implementation of Fibonacci Sequence Calculation\n",
    "In this example, we illustrate recursion concepts by benchmarking different implementations of the Fibonacci sequence computation using the [BenchmarkTools.jl package](https://github.com/JuliaCI/BenchmarkTools.jl).\n",
    "\n",
    "* __Case 1: Vanilla loop-based implementation:__ First, we benchmark the time required to calculate the sequence $F_{0},\\dots,F_{n}$ using the vanilla for-loop implementation of the `fibonacci(...)` function.\n",
    "* __Case 2: Standard recursive implementation:__ Next, we'll benchmark a recursive implementation. The `fibonacci!(n::Int64, series::Dict{Int64, Int64})::Nothing` function is a mutating recursive function that computes the sequence $F_{0},\\dots, F_{n}$ for a given $n$. The recursive sequence is stored in the `series::Dict{Int64, Int64}` argument, which is updated in place.\n",
    "* __Case 3: Memoized recursive implementation:__ Lastly, we'll benchmark a recursive implementation that uses memoization. The `memoization_fibonacci!(n::Int64, series::Dict{Int64, Int64})::Nothing` function is a mutating recursive function that uses memoization to speed up the computation of the sequence $F_{0},\\dots, F_{n}$ for a given $n$. The recursive sequence is stored in the `series::Dict{Int64, Int64}` argument.\n",
    "\n",
    "We expect that the memoized recursive implementation will be significantly faster than the standard recursive implementation, especially for larger values of $n$. This is because memoization avoids redundant calculations by storing previously computed results. However, let's see!\n",
    "\n",
    "Let's get started!\n",
    "___"
   ]
  },
  {
   "cell_type": "markdown",
   "id": "8af7ad9e-39b9-47cc-af75-257b4dd025a6",
   "metadata": {},
   "source": [
    "## Setup, Data, and Prerequisites\n",
    "First, we set up the computational environment by including the `Include.jl` file and loading any needed resources.\n",
    "\n",
    "> The [include command](https://docs.julialang.org/en/v1/base/base/#include) evaluates the contents of the input source file, `Include.jl`, in the notebook's global scope. The `Include.jl` file sets paths, loads required external packages, etc. For additional information on functions and types used in this material, see the [Julia programming language documentation](https://docs.julialang.org/en/v1/). \n",
    "\n",
    "\n",
    "Let's set up the computational environment."
   ]
  },
  {
   "cell_type": "code",
   "execution_count": 1,
   "id": "4d6bbba5-1cd0-4e1e-a0dd-cc46e5e5bd10",
   "metadata": {},
   "outputs": [],
   "source": [
    "include(joinpath(@__DIR__, \"Include.jl\")); # what is this doing?"
   ]
  },
  {
   "cell_type": "markdown",
   "id": "99bb86a3",
   "metadata": {},
   "source": [
    "In addition to standard Julia libraries, we'll also use [the `VLDataScienceMachineLearningPackage.jl` package](https://github.com/varnerlab/VLDataScienceMachineLearningPackage.jl). Check out [the documentation](https://varnerlab.github.io/VLDataScienceMachineLearningPackage.jl/dev/) for more information on the functions, types, and data used in this material."
   ]
  },
  {
   "cell_type": "markdown",
   "id": "c7a336b2",
   "metadata": {},
   "source": [
    "### Implementations\n",
    "We've implemented three versions of the Fibonacci sequence calculation that we will benchmark. These are contained in [the `Compute.jl` file](src/Compute.jl), which is included in [the `Include.jl` file](Include.jl).\n",
    "\n",
    "* __Vanilla loop-based implementation:__ The `fibonacci(n::Int64)::Vector{Int64}` function computes the Fibonacci sequence using a simple for-loop approach.\n",
    "* __Standard recursive implementation:__ The `fibonacci!(n::Int64, series::Dict{Int64, Int64})::Nothing` function computes the Fibonacci sequence using a standard recursive approach. This implementation uses a mutating recursive function that computes the sequence $F_{0},\\dots, F_{n}$ for a given $n$. The recursive sequence is stored in the `series::Dict{Int64, Int64}` argument, which is updated in place.\n",
    "* __Memoized recursive implementation:__ The `memoization_fibonacci!(n::Int64, series::Dict{Int64, Int64})::Nothing` function computes the Fibonacci sequence using a memoized recursive approach to avoid redundant calculations. This implementation uses a mutating recursive function that computes the sequence $F_{0},\\dots, F_{n}$ for a given $n$. The recursive sequence is stored in the `series::Dict{Int64, Int64}` argument, which is updated in place.\n",
    "\n"
   ]
  },
  {
   "cell_type": "markdown",
   "id": "fa5cb95c-8cbd-4fb5-b98a-c3862df126eb",
   "metadata": {},
   "source": [
    "### Constants\n",
    "Let's set some constants that we will use in the notebook. See the comment next to the constant value for what the constant is, permissible values, units, etc."
   ]
  },
  {
   "cell_type": "code",
   "execution_count": 2,
   "id": "3db32fec-8211-4817-b68a-5166ba5d40b7",
   "metadata": {},
   "outputs": [],
   "source": [
    "n = 25; # compute the Fibonacci sequence from F0 to F25\n",
    "correct_fibonacci_sequence = Dict(0 => 0, 1 => 1, 2 => 1, 3 => 2, 4 => 3, 5 => 5, 6 => 8, 7 => 13, 8 => 21, 9 => 34, 10 => 55, 11 => 89, 12 => 144, 13 => 233, 14 => 377, 15 => 610);"
   ]
  },
  {
   "cell_type": "markdown",
   "id": "4a234c41",
   "metadata": {},
   "source": [
    "___"
   ]
  },
  {
   "cell_type": "markdown",
   "id": "b081097e-188e-4da4-849f-53bcb604733b",
   "metadata": {},
   "source": [
    "## Case 1: Test the for loop implementation of Fibonacci computation\n",
    "Let's use the [BenchmarkTools.jl package](https://github.com/JuliaCI/BenchmarkTools.jl) to compute the average time required to calculate the sequence $F_{0},\\dots,F_{n}$ using the vanilla implementation of the `fibonacci` function (for-loop-based implementation). However, before we benchmark the for loop implementation, let's check that it is correct by [using the `@test` macro exported by the `Test.jl` package](https://docs.julialang.org/en/v1/stdlib/Test/)."
   ]
  },
  {
   "cell_type": "code",
   "execution_count": 3,
   "id": "1456a34e",
   "metadata": {},
   "outputs": [],
   "source": [
    "let\n",
    "\n",
    "    # initialize -\n",
    "    number_of_test_terms = 15; # we have n = 15 terms in the correct_fibonacci_sequence dictionary\n",
    "    my_computed_sequence = fibonacci(number_of_test_terms);\n",
    "    \n",
    "    for i ∈ 0:number_of_test_terms\n",
    "        @test my_computed_sequence[i] == correct_fibonacci_sequence[i];\n",
    "    end\n",
    "end"
   ]
  },
  {
   "cell_type": "markdown",
   "id": "57b52396",
   "metadata": {},
   "source": [
    "Now that we have verified correctness, let's benchmark the for-loop implementation of the Fibonacci sequence calculation.\n",
    "\n",
    "> __Benchmarking:__ The [BenchmarkTools.jl package](https://github.com/JuliaCI/BenchmarkTools.jl) exports the [@benchmarkable macro](https://juliaci.github.io/BenchmarkTools.jl/stable/reference/#BenchmarkTools.@benchmarkable-Tuple), which computes a function's runtime and memory profile. It runs the function many times and returns statistical information about its performance. Check out [the BenchmarkTools.jl documentation](https://github.com/JuliaCI/BenchmarkTools.jl) to see what some of these features, e.g., `samples` versus `evaluations` or the `tune!` method, do.\n",
    "\n",
    "How does the vanilla implementation perform? Let's find out!"
   ]
  },
  {
   "cell_type": "code",
   "execution_count": 4,
   "id": "5aa92c86-ba05-40f0-bd59-61415c0a5297",
   "metadata": {},
   "outputs": [
    {
     "data": {
      "text/plain": [
       "BenchmarkTools.Trial: 10000 samples with 10 evaluations per sample.\n",
       " Range \u001b[90m(\u001b[39m\u001b[36m\u001b[1mmin\u001b[22m\u001b[39m … \u001b[35mmax\u001b[39m\u001b[90m):  \u001b[39m\u001b[36m\u001b[1m1.042 μs\u001b[22m\u001b[39m … \u001b[35m637.013 μs\u001b[39m  \u001b[90m┊\u001b[39m GC \u001b[90m(\u001b[39mmin … max\u001b[90m): \u001b[39m 0.00% … 99.26%\n",
       " Time  \u001b[90m(\u001b[39m\u001b[34m\u001b[1mmedian\u001b[22m\u001b[39m\u001b[90m):     \u001b[39m\u001b[34m\u001b[1m1.363 μs               \u001b[22m\u001b[39m\u001b[90m┊\u001b[39m GC \u001b[90m(\u001b[39mmedian\u001b[90m):    \u001b[39m 0.00%\n",
       " Time  \u001b[90m(\u001b[39m\u001b[32m\u001b[1mmean\u001b[22m\u001b[39m ± \u001b[32mσ\u001b[39m\u001b[90m):   \u001b[39m\u001b[32m\u001b[1m1.722 μs\u001b[22m\u001b[39m ± \u001b[32m 12.535 μs\u001b[39m  \u001b[90m┊\u001b[39m GC \u001b[90m(\u001b[39mmean ± σ\u001b[90m):  \u001b[39m17.56% ±  2.43%\n",
       "\n",
       "  \u001b[39m \u001b[39m \u001b[39m \u001b[39m \u001b[39m \u001b[39m \u001b[39m \u001b[39m▁\u001b[39m▄\u001b[39m█\u001b[39m▆\u001b[34m▄\u001b[39m\u001b[39m▂\u001b[39m \u001b[39m \u001b[39m \u001b[39m \u001b[39m \u001b[39m \u001b[39m \u001b[39m \u001b[39m \u001b[39m \u001b[32m \u001b[39m\u001b[39m \u001b[39m \u001b[39m \u001b[39m \u001b[39m \u001b[39m \u001b[39m \u001b[39m \u001b[39m \u001b[39m \u001b[39m \u001b[39m \u001b[39m \u001b[39m \u001b[39m \u001b[39m \u001b[39m \u001b[39m \u001b[39m \u001b[39m \u001b[39m \u001b[39m \u001b[39m \u001b[39m \u001b[39m \u001b[39m \u001b[39m \u001b[39m \u001b[39m \u001b[39m \u001b[39m \u001b[39m \u001b[39m \u001b[39m \u001b[39m \u001b[39m \u001b[39m \n",
       "  \u001b[39m▂\u001b[39m▂\u001b[39m▂\u001b[39m▃\u001b[39m▄\u001b[39m▄\u001b[39m▇\u001b[39m█\u001b[39m█\u001b[39m█\u001b[39m█\u001b[34m█\u001b[39m\u001b[39m█\u001b[39m█\u001b[39m▇\u001b[39m▅\u001b[39m▄\u001b[39m▃\u001b[39m▃\u001b[39m▃\u001b[39m▂\u001b[39m▂\u001b[39m▂\u001b[32m▂\u001b[39m\u001b[39m▂\u001b[39m▂\u001b[39m▁\u001b[39m▁\u001b[39m▁\u001b[39m▁\u001b[39m▁\u001b[39m▁\u001b[39m▁\u001b[39m▁\u001b[39m▁\u001b[39m▁\u001b[39m▁\u001b[39m▁\u001b[39m▁\u001b[39m▁\u001b[39m▁\u001b[39m▁\u001b[39m▁\u001b[39m▁\u001b[39m▁\u001b[39m▁\u001b[39m▁\u001b[39m▁\u001b[39m▁\u001b[39m▁\u001b[39m▁\u001b[39m▁\u001b[39m▁\u001b[39m▁\u001b[39m▁\u001b[39m▁\u001b[39m▁\u001b[39m▁\u001b[39m▁\u001b[39m \u001b[39m▂\n",
       "  1.04 μs\u001b[90m         Histogram: frequency by time\u001b[39m        2.81 μs \u001b[0m\u001b[1m<\u001b[22m\n",
       "\n",
       " Memory estimate\u001b[90m: \u001b[39m\u001b[33m5.94 KiB\u001b[39m, allocs estimate\u001b[90m: \u001b[39m\u001b[33m12\u001b[39m."
      ]
     },
     "metadata": {},
     "output_type": "display_data"
    }
   ],
   "source": [
    "result_basal = let\n",
    "    n = 50; # local variable to compute the Fibonacci sequence from F0 to F50\n",
    "    test_run_basal = @benchmarkable fibonacci($(n));\n",
    "    tune!(test_run_basal)\n",
    "    result_basal = run(test_run_basal)\n",
    "end"
   ]
  },
  {
   "cell_type": "markdown",
   "id": "0c6c8653-ce86-4470-b155-756b30db9fbb",
   "metadata": {},
   "source": [
    "## Case 2: Test the recursive implementation of the Fibonacci computation\n",
    "Next, let's benchmark a recursive implementation. The `fibonacci!(n::Int64, series::Dict{Int64, Int64})::Nothing` function is a mutating recursive function that computes the sequence $F_{0},\\dots, F_{n}$ for a given $n$. The recursive sequence is stored in the `series::Dict{Int64, Int64}` argument. This takes advantage of [the mutating function behavior](https://docs.julialang.org/en/v1/manual/functions/#man-argument-passing) in Julia, which allows us to update the dictionary in place without returning a new dictionary.\n",
    "\n",
    "Let's verify that the recursive implementation is correct by checking that it computes the Fibonacci sequence correctly for $F_{0},\\dots,F_{n}$, where $n$ is the number of terms in the `correct_fibonacci_sequence` dictionary."
   ]
  },
  {
   "cell_type": "code",
   "execution_count": 5,
   "id": "3707e643",
   "metadata": {},
   "outputs": [],
   "source": [
    "let\n",
    "\n",
    "    # initialize -\n",
    "    number_of_test_terms = 15; # we have n = 15 terms in the correct_fibonacci_sequence dictionary\n",
    "    my_computed_sequence = Dict{Int64, Int64}(); # initialize an empty dictionary\n",
    "    fibonacci!(number_of_test_terms, my_computed_sequence); # notice that we are not returning anything, we are mutating the dictionary in place\n",
    "    \n",
    "    # verify correctness - for terms 0 ... number_of_test_terms\n",
    "    for i ∈ 0:number_of_test_terms\n",
    "        @test my_computed_sequence[i] == correct_fibonacci_sequence[i];\n",
    "    end\n",
    "end"
   ]
  },
  {
   "cell_type": "markdown",
   "id": "e8e2f3ba",
   "metadata": {},
   "source": [
    "No testing explosions? Great! Then how does the recursive implementation perform relative to the baseline implementation of the Fibonacci computation?"
   ]
  },
  {
   "cell_type": "code",
   "execution_count": 6,
   "id": "fe22bd5d-a7c1-4eed-b5f7-c5bfd869f02a",
   "metadata": {},
   "outputs": [
    {
     "data": {
      "text/plain": [
       "BenchmarkTools.Trial: 4060 samples with 1 evaluation per sample.\n",
       " Range \u001b[90m(\u001b[39m\u001b[36m\u001b[1mmin\u001b[22m\u001b[39m … \u001b[35mmax\u001b[39m\u001b[90m):  \u001b[39m\u001b[36m\u001b[1m1.208 ms\u001b[22m\u001b[39m … \u001b[35m 1.465 ms\u001b[39m  \u001b[90m┊\u001b[39m GC \u001b[90m(\u001b[39mmin … max\u001b[90m): \u001b[39m0.00% … 0.00%\n",
       " Time  \u001b[90m(\u001b[39m\u001b[34m\u001b[1mmedian\u001b[22m\u001b[39m\u001b[90m):     \u001b[39m\u001b[34m\u001b[1m1.222 ms              \u001b[22m\u001b[39m\u001b[90m┊\u001b[39m GC \u001b[90m(\u001b[39mmedian\u001b[90m):    \u001b[39m0.00%\n",
       " Time  \u001b[90m(\u001b[39m\u001b[32m\u001b[1mmean\u001b[22m\u001b[39m ± \u001b[32mσ\u001b[39m\u001b[90m):   \u001b[39m\u001b[32m\u001b[1m1.231 ms\u001b[22m\u001b[39m ± \u001b[32m23.552 μs\u001b[39m  \u001b[90m┊\u001b[39m GC \u001b[90m(\u001b[39mmean ± σ\u001b[90m):  \u001b[39m0.00% ± 0.00%\n",
       "\n",
       "  \u001b[39m▂\u001b[39m \u001b[39m█\u001b[39m▇\u001b[39m▄\u001b[39m▅\u001b[39m▄\u001b[34m▃\u001b[39m\u001b[39m▃\u001b[39m▅\u001b[39m▄\u001b[32m▄\u001b[39m\u001b[39m▄\u001b[39m▃\u001b[39m▂\u001b[39m▂\u001b[39m▃\u001b[39m▂\u001b[39m▃\u001b[39m▂\u001b[39m▂\u001b[39m▂\u001b[39m▂\u001b[39m▂\u001b[39m▂\u001b[39m▁\u001b[39m▂\u001b[39m▂\u001b[39m▁\u001b[39m▁\u001b[39m▁\u001b[39m▁\u001b[39m▁\u001b[39m \u001b[39m \u001b[39m▁\u001b[39m▁\u001b[39m \u001b[39m \u001b[39m \u001b[39m \u001b[39m \u001b[39m \u001b[39m \u001b[39m \u001b[39m \u001b[39m \u001b[39m \u001b[39m \u001b[39m \u001b[39m \u001b[39m \u001b[39m \u001b[39m \u001b[39m \u001b[39m \u001b[39m \u001b[39m \u001b[39m \u001b[39m▂\n",
       "  \u001b[39m█\u001b[39m█\u001b[39m█\u001b[39m█\u001b[39m█\u001b[39m█\u001b[39m█\u001b[34m█\u001b[39m\u001b[39m█\u001b[39m█\u001b[39m█\u001b[32m█\u001b[39m\u001b[39m█\u001b[39m█\u001b[39m█\u001b[39m█\u001b[39m█\u001b[39m█\u001b[39m█\u001b[39m█\u001b[39m█\u001b[39m█\u001b[39m█\u001b[39m█\u001b[39m█\u001b[39m█\u001b[39m█\u001b[39m█\u001b[39m█\u001b[39m█\u001b[39m█\u001b[39m█\u001b[39m█\u001b[39m█\u001b[39m█\u001b[39m█\u001b[39m█\u001b[39m█\u001b[39m█\u001b[39m▇\u001b[39m▇\u001b[39m▇\u001b[39m▇\u001b[39m▆\u001b[39m▇\u001b[39m▆\u001b[39m▅\u001b[39m▃\u001b[39m▅\u001b[39m▄\u001b[39m▄\u001b[39m▅\u001b[39m▄\u001b[39m▁\u001b[39m▄\u001b[39m▁\u001b[39m▁\u001b[39m▅\u001b[39m \u001b[39m█\n",
       "  1.21 ms\u001b[90m      \u001b[39m\u001b[90mHistogram: \u001b[39m\u001b[90m\u001b[1mlog(\u001b[22m\u001b[39m\u001b[90mfrequency\u001b[39m\u001b[90m\u001b[1m)\u001b[22m\u001b[39m\u001b[90m by time\u001b[39m     1.32 ms \u001b[0m\u001b[1m<\u001b[22m\n",
       "\n",
       " Memory estimate\u001b[90m: \u001b[39m\u001b[33m0 bytes\u001b[39m, allocs estimate\u001b[90m: \u001b[39m\u001b[33m0\u001b[39m."
      ]
     },
     "metadata": {},
     "output_type": "display_data"
    }
   ],
   "source": [
    "result_recursive = let\n",
    "    n = 25; # local variable to compute the Fibonacci sequence from F0 to F25\n",
    "    result_dictionary = Dict{Int,Int}() # empty dictionary to store the Fibonacci sequence\n",
    "    test_run_recursive = @benchmarkable fibonacci!($(n), $(result_dictionary))\n",
    "    tune!(test_run_recursive)\n",
    "    result_recursive = run(test_run_recursive)\n",
    "end"
   ]
  },
  {
   "cell_type": "markdown",
   "id": "884c6313",
   "metadata": {},
   "source": [
    "__Hmmmm.__ Wow! The recursive implementation is __significantly slower__ than the baseline implementation. This is likely due to the overhead of recursive function calls and the way the algorithm processes the computation, even though it stores intermediate results. Lesson learned: recursion is not always faster than iteration!"
   ]
  },
  {
   "cell_type": "markdown",
   "id": "b7baa920",
   "metadata": {},
   "source": [
    "<div>\n",
    "    <center>\n",
    "      <img\n",
    "        src=\"figs/Fig-Fibonacci-Recursive.svg\"\n",
    "        alt=\"memoized recursive implementation of Fibonacci sequence computation\"\n",
    "        height=\"200\"\n",
    "        width=\"400\"\n",
    "      />\n",
    "    </center>\n",
    "  </div>"
   ]
  },
  {
   "cell_type": "markdown",
   "id": "9000cf95-7611-4763-a54f-03dfaafcb52b",
   "metadata": {},
   "source": [
    "## Case 3: Test the recursive implementation of the Fibonacci computation with memoization\n",
    "Finally, let's benchmark a recursive Fibonacci function that uses memoization. The `memoization_fibonacci!(n::Int64, series::Dict{Int64, Int64})::Nothing` implementation is a mutating recursive function that uses memoization to speed up the computation of the sequence $F_{0},\\dots, F_{n}$ for a given $n$. The recursive sequence is stored in the `series::Dict{Int64, Int64}` argument.\n",
    "\n",
    "First, does this implementation do what we expect? Let's verify that it computes the Fibonacci sequence correctly for $F_{0},\\dots,F_{n}$, where $n$ is the number of terms in the `correct_fibonacci_sequence` dictionary."
   ]
  },
  {
   "cell_type": "code",
   "execution_count": 7,
   "id": "21433270",
   "metadata": {},
   "outputs": [],
   "source": [
    "let\n",
    "\n",
    "    # initialize -\n",
    "    number_of_test_terms = 15; # we have n = 15 terms in the correct_fibonacci_sequence dictionary\n",
    "    my_computed_sequence = Dict{Int64, Int64}(); # initialize an empty dictionary\n",
    "    memoization_fibonacci!(number_of_test_terms, my_computed_sequence); # notice that we are not returning anything, we are mutating the dictionary in place\n",
    "    \n",
    "    # verify correctness - for terms 0 ... number_of_test_terms\n",
    "    for i ∈ 0:number_of_test_terms\n",
    "        @test my_computed_sequence[i] == correct_fibonacci_sequence[i];\n",
    "    end\n",
    "end"
   ]
  },
  {
   "cell_type": "markdown",
   "id": "468a0cac",
   "metadata": {},
   "source": [
    "Does the inclusion of the memoization change the runtime (or memory allocation) profile of the recursive Fibonacci implementation?"
   ]
  },
  {
   "cell_type": "code",
   "execution_count": 8,
   "id": "95d71815-e936-4d3e-a6b7-970c1ce7cbbf",
   "metadata": {},
   "outputs": [
    {
     "data": {
      "text/plain": [
       "BenchmarkTools.Trial: 10000 samples with 1000 evaluations per sample.\n",
       " Range \u001b[90m(\u001b[39m\u001b[36m\u001b[1mmin\u001b[22m\u001b[39m … \u001b[35mmax\u001b[39m\u001b[90m):  \u001b[39m\u001b[36m\u001b[1m7.375 ns\u001b[22m\u001b[39m … \u001b[35m26.958 ns\u001b[39m  \u001b[90m┊\u001b[39m GC \u001b[90m(\u001b[39mmin … max\u001b[90m): \u001b[39m0.00% … 0.00%\n",
       " Time  \u001b[90m(\u001b[39m\u001b[34m\u001b[1mmedian\u001b[22m\u001b[39m\u001b[90m):     \u001b[39m\u001b[34m\u001b[1m7.458 ns              \u001b[22m\u001b[39m\u001b[90m┊\u001b[39m GC \u001b[90m(\u001b[39mmedian\u001b[90m):    \u001b[39m0.00%\n",
       " Time  \u001b[90m(\u001b[39m\u001b[32m\u001b[1mmean\u001b[22m\u001b[39m ± \u001b[32mσ\u001b[39m\u001b[90m):   \u001b[39m\u001b[32m\u001b[1m7.557 ns\u001b[22m\u001b[39m ± \u001b[32m 0.906 ns\u001b[39m  \u001b[90m┊\u001b[39m GC \u001b[90m(\u001b[39mmean ± σ\u001b[90m):  \u001b[39m0.00% ± 0.00%\n",
       "\n",
       "  \u001b[39m \u001b[39m \u001b[39m▄\u001b[39m \u001b[39m \u001b[34m█\u001b[39m\u001b[39m \u001b[39m▅\u001b[39m \u001b[39m \u001b[39m▂\u001b[39m \u001b[32m \u001b[39m\u001b[39m▃\u001b[39m \u001b[39m▂\u001b[39m \u001b[39m \u001b[39m▁\u001b[39m \u001b[39m \u001b[39m▁\u001b[39m \u001b[39m \u001b[39m \u001b[39m \u001b[39m \u001b[39m \u001b[39m \u001b[39m \u001b[39m \u001b[39m \u001b[39m \u001b[39m \u001b[39m▁\u001b[39m \u001b[39m▁\u001b[39m \u001b[39m \u001b[39m \u001b[39m \u001b[39m \u001b[39m \u001b[39m \u001b[39m \u001b[39m \u001b[39m \u001b[39m \u001b[39m \u001b[39m \u001b[39m \u001b[39m \u001b[39m \u001b[39m \u001b[39m \u001b[39m \u001b[39m \u001b[39m \u001b[39m \u001b[39m▁\n",
       "  \u001b[39m▄\u001b[39m▁\u001b[39m█\u001b[39m▁\u001b[39m▁\u001b[34m█\u001b[39m\u001b[39m▁\u001b[39m█\u001b[39m▁\u001b[39m▁\u001b[39m█\u001b[39m▁\u001b[32m▁\u001b[39m\u001b[39m█\u001b[39m▁\u001b[39m█\u001b[39m▁\u001b[39m▁\u001b[39m█\u001b[39m▁\u001b[39m▁\u001b[39m█\u001b[39m▁\u001b[39m▆\u001b[39m▁\u001b[39m▁\u001b[39m▆\u001b[39m▁\u001b[39m▅\u001b[39m▄\u001b[39m▁\u001b[39m▇\u001b[39m▁\u001b[39m▁\u001b[39m█\u001b[39m▁\u001b[39m█\u001b[39m▁\u001b[39m▁\u001b[39m▆\u001b[39m▁\u001b[39m▁\u001b[39m▅\u001b[39m▁\u001b[39m▇\u001b[39m▁\u001b[39m▁\u001b[39m▆\u001b[39m▁\u001b[39m▁\u001b[39m▆\u001b[39m▁\u001b[39m▆\u001b[39m▁\u001b[39m▁\u001b[39m▇\u001b[39m▁\u001b[39m▆\u001b[39m \u001b[39m█\n",
       "  7.38 ns\u001b[90m      \u001b[39m\u001b[90mHistogram: \u001b[39m\u001b[90m\u001b[1mlog(\u001b[22m\u001b[39m\u001b[90mfrequency\u001b[39m\u001b[90m\u001b[1m)\u001b[22m\u001b[39m\u001b[90m by time\u001b[39m     8.29 ns \u001b[0m\u001b[1m<\u001b[22m\n",
       "\n",
       " Memory estimate\u001b[90m: \u001b[39m\u001b[33m0 bytes\u001b[39m, allocs estimate\u001b[90m: \u001b[39m\u001b[33m0\u001b[39m."
      ]
     },
     "metadata": {},
     "output_type": "display_data"
    }
   ],
   "source": [
    "result_recursive_memo = let\n",
    "    n = 50; # local variable to compute the Fibonacci sequence from F0 to F50\n",
    "    result_dictionary_memo = Dict{Int,Int}()\n",
    "    test_run_recursive_memo = @benchmarkable memoization_fibonacci!($(n), $(result_dictionary_memo))\n",
    "    tune!(test_run_recursive_memo)\n",
    "    result_recursive_memo = run(test_run_recursive_memo)\n",
    "end"
   ]
  },
  {
   "cell_type": "markdown",
   "id": "f5ad453d",
   "metadata": {},
   "source": [
    "## Summary\n",
    "So what did we learn from benchmarking these three different approaches to computing the Fibonacci sequence? First, recursion isn't always faster than iteration - our vanilla recursive implementation was significantly slower than the simple for-loop approach. \n",
    "\n",
    "However, memoization can dramatically improve recursive performance by storing previously computed results and avoiding redundant calculations. The memoized recursive implementation performed much better than the standard recursive version (and even the for-loop implementation!)\n",
    "\n",
    "The key takeaway? Choose your algorithm wisely based on the problem structure, and remember that elegant recursive solutions sometimes need optimization techniques like memoization to be practically useful!"
   ]
  }
 ],
 "metadata": {
  "kernelspec": {
   "display_name": "Julia 1.11.6",
   "language": "julia",
   "name": "julia-1.11"
  },
  "language_info": {
   "file_extension": ".jl",
   "mimetype": "application/julia",
   "name": "julia",
   "version": "1.11.6"
  }
 },
 "nbformat": 4,
 "nbformat_minor": 5
}
