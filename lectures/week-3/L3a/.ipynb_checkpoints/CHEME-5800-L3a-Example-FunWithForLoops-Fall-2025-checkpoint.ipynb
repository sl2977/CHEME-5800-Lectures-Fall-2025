{
 "cells": [
  {
   "cell_type": "markdown",
   "id": "3f20ce93-4de8-46c3-bcc5-d3f36431dfdb",
   "metadata": {},
   "source": [
    "# Example: Fun with Iteration Patterns for Arrays, Sets, and Dictionaries\n",
    "Iteration is the repeated execution of a block of code, typically used to process elements in a collection or to perform repeated actions until a condition is met. \n",
    "> __Iteration__ is an _extremely common_ fundamental concept used in nearly all applications. It appears in tasks ranging from simple loops over arrays to complex algorithms in data processing, simulation, and machine learning, making it an essential tool in nearly every programming language and domain.\n",
    "\n",
    "In this example, we'll explore the two iteration patterns that you'll likely encounter in your everyday life:\n",
    "* __For loops__: A for loop is a control structure that repeatedly executes a code block for each element in a specified sequence or range. It is commonly used to iterate over collections like arrays or lists, or to perform a fixed number of repetitions.\n",
    "* __While loops__: A while loop is a control structure that repeatedly executes a code block if a specified condition remains true. It is typically used when the number of iterations is not known in advance and depends on dynamic conditions during execution.\n",
    "\n",
    "I'm ready to get going, so let's go!\n",
    "___"
   ]
  },
  {
   "cell_type": "markdown",
   "id": "ae71e106-7fe2-4707-aa92-eeb2aca75c49",
   "metadata": {},
   "source": [
    "## Setup, Data, and Prerequisites\n",
    "We set up the computational environment by including the `Include.jl` file and loading any needed resources.\n",
    "\n",
    "> __Include__: The [include command](https://docs.julialang.org/en/v1/base/base/#include) evaluates the contents of the input source file, `Include.jl`, in the notebook's global scope. The `Include.jl` file sets paths, loads required external packages, etc. \n",
    "\n",
    "Let's set up the computational environment."
   ]
  },
  {
   "cell_type": "code",
   "execution_count": 3,
   "id": "c48d97b5-075f-4ac5-9054-f937518f2aef",
   "metadata": {},
   "outputs": [],
   "source": [
    "include(joinpath(@__DIR__, \"Include.jl\"));"
   ]
  },
  {
   "cell_type": "markdown",
   "id": "b8fc4b20",
   "metadata": {},
   "source": [
    "For additional information on Julia functions and types used in this material, see the [Julia programming language documentation](https://docs.julialang.org/en/v1/). In addition, we'll also use [the `VLDataScienceMachineLearningPackage.jl` package](https://github.com/varnerlab/VLDataScienceMachineLearningPackage.jl). Check out [the documentation](https://varnerlab.github.io/VLDataScienceMachineLearningPackage.jl/dev/) for more information on its functions, types, and data. \n",
    "___"
   ]
  },
  {
   "cell_type": "markdown",
   "id": "72a36a5e-aae4-4ce0-a6a0-5fd1b144a756",
   "metadata": {},
   "source": [
    "## Example 1: Basic for-loop iteration patterns for Ordered Collections\n",
    "Let's start by looking at the basic structure of [a for-loop.](https://docs.julialang.org/en/v1/base/base/#for) A [for-loop](https://docs.julialang.org/en/v1/base/base/#for) has a header and a body. \n",
    "> __Loop header:__ The __header__ in a for-loop specifies how many times the loop will iterate. The loop `index` is passed into the loop's _body_, where you put your logic. The `index` is always a new variable, even if a variable of the same name exists in the enclosing scope.\n",
    "\n",
    "In Julia, the [for-loop](https://docs.julialang.org/en/v1/base/base/#for) has its _local scope_ that captures variables from the outside but doesn't pass new variables created inside the loop to the outside unless they already exist. The [local scope of the for loop](https://docs.julialang.org/en/v1/manual/variables-and-scoping/#local-scope) ends with the `end` keyword.\n",
    "\n",
    "> __Scope:__ In programming, __scope__ refers to the region of code where a variable or identifier is defined and accessible. It determines the visibility and lifetime of variables, helping to manage the namespace and prevent naming conflicts.\n",
    "\n",
    "Let's do a simple example where we create an `Array{Float64,1}` holding random values, iterate over this array using a for loop, and print using the [println function](https://docs.julialang.org/en/v1/base/io-network/#Base.println) each random value."
   ]
  },
  {
   "cell_type": "code",
   "execution_count": 49,
   "id": "96c5419d-beeb-4a57-aeea-55ef84318458",
   "metadata": {},
   "outputs": [
    {
     "name": "stdout",
     "output_type": "stream",
     "text": [
      "The index i = 1 and the value = 0.5828712310310923\n",
      "The index i = 2 and the value = 0.2911991113140032\n",
      "The index i = 3 and the value = 0.5287458733437066\n",
      "The index i = 4 and the value = 0.2340000988376163\n",
      "The index i = 5 and the value = 0.8092032574708081\n"
     ]
    },
    {
     "ename": "LoadError",
     "evalue": "UndefVarError: `value` not defined in `Main`\nSuggestion: check for spelling errors or missing imports.",
     "output_type": "error",
     "traceback": [
      "UndefVarError: `value` not defined in `Main`\nSuggestion: check for spelling errors or missing imports.",
      "",
      "Stacktrace:",
      " [1] top-level scope",
      "\u001b[90m   @\u001b[39m \u001b[90m./\u001b[39m\u001b[90m\u001b[4mIn[49]:11\u001b[24m\u001b[39m"
     ]
    }
   ],
   "source": [
    "let\n",
    "    \n",
    "    number_of_elements = 5; # how many items do we want?\n",
    "    random_vector_array = rand(number_of_elements); # create an array of random 64-bit floating-point values\n",
    "    value = nothing # declare a variable outside the loop.\n",
    "    \n",
    "    for i ∈ 1:number_of_elements\n",
    "        value = random_vector_array[i];\n",
    "        println(\"The index i = $(i) and the value = $(random_vector_array[i])\");\n",
    "    end # end of for loop scope\n",
    "    value # what gets printed?\n",
    "end"
   ]
  },
  {
   "cell_type": "markdown",
   "id": "24fedc9d-b5ce-4e10-8802-3f8bd974bb89",
   "metadata": {},
   "source": [
    "### Eachindex\n",
    "Another [for-loop](https://docs.julialang.org/en/v1/base/base/#for) pattern is the [eachindex pattern](https://docs.julialang.org/en/v1/base/arrays/#Base.eachindex). We use the [eachindex pattern](https://docs.julialang.org/en/v1/base/arrays/#Base.eachindex) when we don't explicitly know how many elements we have in an ordered collection, but we want all of the elements in order."
   ]
  },
  {
   "cell_type": "code",
   "execution_count": 8,
   "id": "d2ae0e2f-89b4-48c1-8969-fe42f540316b",
   "metadata": {},
   "outputs": [
    {
     "name": "stdout",
     "output_type": "stream",
     "text": [
      "The index i = 1 and the value = 0.8594647376719959\n",
      "The index i = 2 and the value = 0.9777251074330687\n",
      "The index i = 3 and the value = 0.6896687175037127\n",
      "The index i = 4 and the value = 0.5834011671739497\n",
      "The index i = 5 and the value = 0.9470612356223896\n"
     ]
    }
   ],
   "source": [
    "let\n",
    "    number_of_elements = 5; # how many items do we want?\n",
    "    random_vector_array = rand(number_of_elements); # create an array of random 64-bit floating-point values\n",
    "    \n",
    "    for i ∈ eachindex(random_vector_array)\n",
    "        value = random_vector_array[i];\n",
    "        println(\"The index i = $(i) and the value = $(value)\"); # body\n",
    "    end\n",
    "end"
   ]
  },
  {
   "cell_type": "markdown",
   "id": "acddc96b-f2db-40bd-beca-c63225df5cab",
   "metadata": {},
   "source": [
    "### Direct iteration\n",
    "Suppose we don't care about the index $i$, but instead want only the values; we can iterate over the elements of a collection directly. For example, the code block below accesses the values of the `random_vector_array`  directly, but __NOT__ their indexes:"
   ]
  },
  {
   "cell_type": "code",
   "execution_count": 10,
   "id": "bc63300b-fc31-4b6b-bc75-01e431cd0b56",
   "metadata": {},
   "outputs": [
    {
     "name": "stdout",
     "output_type": "stream",
     "text": [
      "Only the value = 0.46862760782059076\n",
      "Only the value = 0.8573731880806637\n",
      "Only the value = 0.605797824970177\n",
      "Only the value = 0.07453727821876133\n",
      "Only the value = 0.26425025896125054\n"
     ]
    }
   ],
   "source": [
    "let\n",
    "    number_of_elements = 5; # how many items do we want?\n",
    "    random_vector_array = rand(number_of_elements); # create an array of random 64-bit floating-point values\n",
    "    \n",
    "    for value ∈ random_vector_array # for value in collection\n",
    "        println(\"Only the value = $(value)\"); # body\n",
    "    end\n",
    "end"
   ]
  },
  {
   "cell_type": "markdown",
   "id": "e8f9b9dc-df21-4f16-bc79-57fd720e0989",
   "metadata": {},
   "source": [
    "### Iterate over other things besides an array?\n",
    "Sure! We can iterate over other ordered (and unordered) collections, not just arrays! For example, we can iterate over [tuples](https://docs.julialang.org/en/v1/manual/functions/#Tuples), fixed-length _immutable_ ordered containers that can hold any values. \n",
    "\n",
    "Let's build a tuple holding some `Int64` types and iterate over these using the [eachindex pattern](https://docs.julialang.org/en/v1/base/arrays/#Base.eachindex).\n",
    "\n",
    "The previous examples used the [println function](https://docs.julialang.org/en/v1/base/io-network/#Base.println) to print output [to `stdout`](https://docs.julialang.org/en/v1/base/io-network/#Base.stdout); here, we show another approach that does the same thing, namely using the [@show macro](https://docs.julialang.org/en/v1/base/base/#Base.@show) which prints one or more expressions, and their results, [to `stdout`](https://docs.julialang.org/en/v1/base/io-network/#Base.stdout):"
   ]
  },
  {
   "cell_type": "code",
   "execution_count": 12,
   "id": "f3a4f2c0-4411-4576-8c74-67d69526ea71",
   "metadata": {},
   "outputs": [
    {
     "name": "stdout",
     "output_type": "stream",
     "text": [
      "(i, example_tuple[i]) = (1, 1)\n",
      "(i, example_tuple[i]) = (2, 2)\n",
      "(i, example_tuple[i]) = (3, 3)\n",
      "(i, example_tuple[i]) = (4, 6)\n",
      "(i, example_tuple[i]) = (5, 5)\n",
      "(i, example_tuple[i]) = (6, 4)\n",
      "(i, example_tuple[i]) = (7, 1)\n",
      "(i, example_tuple[i]) = (8, 1)\n",
      "(i, example_tuple[i]) = (9, 1)\n",
      "(i, example_tuple[i]) = (10, 1)\n"
     ]
    }
   ],
   "source": [
    "let\n",
    "    example_tuple = (1,2,3,6,5,4,1,1,1,1)\n",
    "    \n",
    "    for i ∈ eachindex(example_tuple) # header: for index in index collection\n",
    "        @show (i, example_tuple[i]) # body\n",
    "    end\n",
    "end"
   ]
  },
  {
   "cell_type": "markdown",
   "id": "4f62a395",
   "metadata": {},
   "source": [
    "___"
   ]
  },
  {
   "cell_type": "markdown",
   "id": "d08291e2-f5b0-466d-b19e-be83f225217b",
   "metadata": {},
   "source": [
    "Let's build a `Set{Char}` of values, and then directly iterate the set (where we show the value at each iteration using [the `@show` macro](https://docs.julialang.org/en/v1/base/base/#Base.@show)"
   ]
  },
  {
   "cell_type": "code",
   "execution_count": 15,
   "id": "acf29425-b0ba-4fe7-9730-c55e81b39c7e",
   "metadata": {},
   "outputs": [
    {
     "name": "stdout",
     "output_type": "stream",
     "text": [
      "value = 'C'\n",
      "value = 'U'\n",
      "value = 'D'\n",
      "value = 'A'\n",
      "value = 'R'\n",
      "value = 'S'\n",
      "value = 'T'\n",
      "value = 'B'\n"
     ]
    }
   ],
   "source": [
    "let\n",
    "    example_set = Set{Char}(['A','B','C','D','R','U','S','T','A']);\n",
    "    for value ∈ example_set\n",
    "        @show value\n",
    "    end\n",
    "end"
   ]
  },
  {
   "cell_type": "markdown",
   "id": "388c56da-a830-40af-951a-0af875e0d627",
   "metadata": {},
   "source": [
    "### Dictionary\n",
    "[A Dictionary is an associative container](https://docs.julialang.org/en/v1/base/collections/#Base.Dict) that stores key–value pairs, allowing lookup, insertion, and deletion of values based on their unique keys. While significantly different than an array, we can still traverse a dictionary [using a for-loop](https://docs.julialang.org/en/v1/base/base/#for).\n",
    "\n",
    "We gathered a daily open-high-low-close `dataset` for each firm in the [S&P500](https://en.wikipedia.org/wiki/S%26P_500) from `01-03-2014` until `12-31-2024`, along with data for a few exchange-traded funds and volatility products during that time. \n",
    "\n",
    "Let's load the `orignal_dataset` by calling the `MyMarketDataSet()` function and remove firms that do not have the maximum number of trading days. The cleaned dataset $\\mathcal{D}$ will be stored in the `dataset` variable.\n",
    "\n",
    "When we use a [for-loop](https://docs.julialang.org/en/v1/base/base/#for) with a [Dictionary](https://docs.julialang.org/en/v1/base/collections/#Dictionaries), which is an unordered collection of `key=>value` pairs, we get both the `key` and `value` as the iteration variable organized as a `tuple.`"
   ]
  },
  {
   "cell_type": "code",
   "execution_count": 17,
   "id": "bacdd619-772d-4176-9868-243cc18d1bcb",
   "metadata": {},
   "outputs": [
    {
     "ename": "LoadError",
     "evalue": "UndefVarError: `MyMarketDataSet` not defined in `Main`\nSuggestion: check for spelling errors or missing imports.",
     "output_type": "error",
     "traceback": [
      "UndefVarError: `MyMarketDataSet` not defined in `Main`\nSuggestion: check for spelling errors or missing imports.",
      "",
      "Stacktrace:",
      " [1] top-level scope",
      "\u001b[90m   @\u001b[39m \u001b[90m\u001b[4mIn[17]:1\u001b[24m\u001b[39m"
     ]
    }
   ],
   "source": [
    "original_dataset = MyMarketDataSet() |> x-> x[\"dataset\"];"
   ]
  },
  {
   "cell_type": "code",
   "execution_count": 18,
   "id": "fe2530c2-b6ad-4419-99cc-da04ef5823cd",
   "metadata": {},
   "outputs": [
    {
     "ename": "LoadError",
     "evalue": "UndefVarError: `original_dataset` not defined in `Main`\nSuggestion: check for spelling errors or missing imports.",
     "output_type": "error",
     "traceback": [
      "UndefVarError: `original_dataset` not defined in `Main`\nSuggestion: check for spelling errors or missing imports.",
      ""
     ]
    }
   ],
   "source": [
    "original_dataset"
   ]
  },
  {
   "cell_type": "code",
   "execution_count": 19,
   "id": "7db911da-214b-4bf1-9eda-e4b5ef4b093a",
   "metadata": {},
   "outputs": [
    {
     "ename": "LoadError",
     "evalue": "UndefVarError: `original_dataset` not defined in `Main`\nSuggestion: check for spelling errors or missing imports.",
     "output_type": "error",
     "traceback": [
      "UndefVarError: `original_dataset` not defined in `Main`\nSuggestion: check for spelling errors or missing imports.",
      "",
      "Stacktrace:",
      " [1] top-level scope",
      "\u001b[90m   @\u001b[39m \u001b[90m\u001b[4mIn[19]:1\u001b[24m\u001b[39m"
     ]
    }
   ],
   "source": [
    "original_dataset[\"AAPL\"] # Hmmm. we access the elements of dictionary like an array?"
   ]
  },
  {
   "cell_type": "markdown",
   "id": "28cede1f-eca0-48ef-8db6-c425f45b5900",
   "metadata": {},
   "source": [
    "#### Clean the data\n",
    "Not all tickers in our dataset have the maximum number of trading days for various reasons, e.g., acquisition or de-listing events. Let's collect only those tickers with the maximum number of trading days.\n",
    "\n",
    "First, let's compute the number of records for a firm that we know has a maximum value, e.g., `AAPL`, and save that value in the `maximum_number_trading_days::Int64` variable:"
   ]
  },
  {
   "cell_type": "code",
   "execution_count": 21,
   "id": "afd200ea-077d-4997-adf9-aabb2a7c87d8",
   "metadata": {},
   "outputs": [
    {
     "ename": "LoadError",
     "evalue": "UndefVarError: `original_dataset` not defined in `Main`\nSuggestion: check for spelling errors or missing imports.",
     "output_type": "error",
     "traceback": [
      "UndefVarError: `original_dataset` not defined in `Main`\nSuggestion: check for spelling errors or missing imports.",
      "",
      "Stacktrace:",
      " [1] top-level scope",
      "\u001b[90m   @\u001b[39m \u001b[90m\u001b[4mIn[21]:1\u001b[24m\u001b[39m"
     ]
    }
   ],
   "source": [
    "maximum_number_trading_days = original_dataset[\"AAPL\"] |> nrow; # nrow? (check out: DataFrames.jl)"
   ]
  },
  {
   "cell_type": "markdown",
   "id": "a0804c79-42d2-4de1-be57-16f208be66ad",
   "metadata": {},
   "source": [
    "Now, let's iterate through our data and collect only tickers with `maximum_number_trading_days` records. Save that data in the `dataset::Dict{String,DataFrame}` variable:"
   ]
  },
  {
   "cell_type": "code",
   "execution_count": 23,
   "id": "bc45171b-b81a-4220-afac-2af91e35c2ff",
   "metadata": {},
   "outputs": [
    {
     "ename": "LoadError",
     "evalue": "UndefVarError: `original_dataset` not defined in `Main`\nSuggestion: check for spelling errors or missing imports.",
     "output_type": "error",
     "traceback": [
      "UndefVarError: `original_dataset` not defined in `Main`\nSuggestion: check for spelling errors or missing imports.",
      "",
      "Stacktrace:",
      " [1] top-level scope",
      "\u001b[90m   @\u001b[39m \u001b[90m./\u001b[39m\u001b[90m\u001b[4mIn[23]:7\u001b[24m\u001b[39m"
     ]
    }
   ],
   "source": [
    "dataset = let\n",
    "\n",
    "    # initialize -\n",
    "    dataset = Dict{String, DataFrame}();\n",
    "\n",
    "    # iterate through the dictionary; we can't guarantee a particular order\n",
    "    for (ticker, data) ∈ original_dataset  # we get each (K, V) pair!\n",
    "        if (nrow(data) == maximum_number_trading_days) # what is this doing?\n",
    "            dataset[ticker] = data;\n",
    "        else\n",
    "            println(\"Ticker $(ticker) is not full data\")\n",
    "        end\n",
    "    end\n",
    "    dataset; # return\n",
    "end;"
   ]
  },
  {
   "cell_type": "markdown",
   "id": "a2533c36-e4b0-4b97-8459-b1bf214a40ad",
   "metadata": {},
   "source": [
    "How many firms do we have the full number of trading days? Let's use [the `length(...)` method](https://docs.julialang.org/en/v1/base/collections/#Base.length) - notice this works for dictionaries, in addition to arrays and sets!"
   ]
  },
  {
   "cell_type": "code",
   "execution_count": 25,
   "id": "80314d4a-86b5-42e3-8c88-15df0a6a6031",
   "metadata": {},
   "outputs": [
    {
     "ename": "LoadError",
     "evalue": "UndefVarError: `dataset` not defined in `Main`\nSuggestion: check for spelling errors or missing imports.",
     "output_type": "error",
     "traceback": [
      "UndefVarError: `dataset` not defined in `Main`\nSuggestion: check for spelling errors or missing imports.",
      "",
      "Stacktrace:",
      " [1] top-level scope",
      "\u001b[90m   @\u001b[39m \u001b[90m\u001b[4mIn[25]:1\u001b[24m\u001b[39m"
     ]
    }
   ],
   "source": [
    "length(dataset) # tells us how many keys are in the dictionary"
   ]
  },
  {
   "cell_type": "markdown",
   "id": "6843c117",
   "metadata": {},
   "source": [
    "Let's load the `original_dataset` by calling the `MyMarketDataSet()` function and remove firms that do not have the maximum number of trading days. The cleaned dataset $\\mathcal{D}$ will be stored in the `dataset` variable."
   ]
  },
  {
   "cell_type": "markdown",
   "id": "f037b7b8-06a5-449d-9828-46997e2cead3",
   "metadata": {},
   "source": [
    "## Example 3: While loop iteration Pattern\n",
    "A for loop is used when the number of iterations is known. In contrast, a while loop is used when iterations depend on a condition evaluated before each loop, making it better for dynamic repetition. A while loop also has a header and a body, but they differ from a for loop:\n",
    "> __While loop__: In a while loop, the header contains the loop condition evaluated before each iteration to determine whether the loop should continue. The body is the block of code that executes repeatedly as long as the condition in the header remains true.\n",
    "\n",
    "Let's do a common while loop pattern, where we iterate all the items in a collection until we reach the end of the collection. In this case, we will use a `Set{String}` and iterate over it using a while loop.\n",
    "\n",
    "Let's start by building a set of possible student firstnames using [the `MyCommonForenameDataset()`](https://varnerlab.github.io/VLDataScienceMachineLearningPackage.jl/dev/data/#VLDataScienceMachineLearningPackage.MyCommonForenameDataset) function from [the `VLDataScienceMachineLearningPackage.jl` package.](https://github.com/varnerlab/VLDataScienceMachineLearningPackage.jl). We'll store the forenames in `set_of_firstnames::Set{String}` variable."
   ]
  },
  {
   "cell_type": "code",
   "execution_count": 28,
   "id": "7b17f3b2-0f47-4f6f-b060-2232a900b0bc",
   "metadata": {},
   "outputs": [],
   "source": [
    "set_of_firstnames = let \n",
    "    \n",
    "    # initialize -\n",
    "    set_of_firstnames = Set{String}();\n",
    "    fornames_df = MyCommonForenameDataset(); # firstnames dataset from the VLDataScienceMachineLearningPackage.jl package\n",
    "\n",
    "    # build fornames set - \n",
    "    for name in eachrow(fornames_df)\n",
    "        push!(set_of_firstnames, name[\"Romanized Name\"]);\n",
    "    end\n",
    "\n",
    "    set_of_firstnames # return -\n",
    "end;"
   ]
  },
  {
   "cell_type": "markdown",
   "id": "bb9655e3",
   "metadata": {},
   "source": [
    "Next, let's iterate over the `set_of_firstnames` using a while loop. We'll use the [pop!](https://docs.julialang.org/en/v1/base/collections/#Base.pop!) function to remove and return an arbitrary element from the set. We'll continue to iterate until the set is empty, or we hit the maximum number of iterations, which we set to `10` in this example."
   ]
  },
  {
   "cell_type": "code",
   "execution_count": 30,
   "id": "be2fcbce",
   "metadata": {},
   "outputs": [
    {
     "name": "stdout",
     "output_type": "stream",
     "text": [
      "Popped element = Gustavs\n",
      "Popped element = Anohito\n",
      "Popped element = Marks\n",
      "Popped element = Djamel\n",
      "Popped element = Aleks\n",
      "Popped element = Aleksandre\n",
      "Popped element = David\n",
      "Popped element = Ayşa\n",
      "Popped element = Ya-ting\n",
      "Popped element = Amina\n"
     ]
    }
   ],
   "source": [
    "let\n",
    "\n",
    "    # initialize -\n",
    "    should_stop_while_loop = false;\n",
    "    max_names_to_pop = 10; # how many names do we want to pop?\n",
    "    localset = copy(set_of_firstnames); # make a copy of the set\n",
    "\n",
    "    while should_stop_while_loop == false\n",
    "        first_name_value = pop!(localset); # remove and return an element from the set\n",
    "\n",
    "        println(\"Popped element = $(first_name_value)\");\n",
    "\n",
    "        # check iteration condition -\n",
    "        if (isempty(localset) == true) || (max_names_to_pop == 1) # what is an if statement?\n",
    "            should_stop_while_loop = true;\n",
    "        else\n",
    "            max_names_to_pop -= 1; # decrement the counter\n",
    "        end\n",
    "    end\n",
    "end"
   ]
  },
  {
   "cell_type": "markdown",
   "id": "9cb2a6ed",
   "metadata": {},
   "source": [
    "__Ok, that was interesting, but when do we want to use a while loop?__ \n",
    "\n",
    "* A while loop is useful when the number of iterations is not known in advance and depends on dynamic conditions during execution. It allows for more flexible control over the loop's termination based on changing conditions, making it suitable for scenarios where the loop's exit criteria are not predetermined.\n",
    "* While loops are often used for tasks like reading data until the end of a file, waiting for a specific condition to be met, or processing items in a collection until all items are processed. They are also useful for implementing algorithms that require repeated execution until a certain condition is satisfied, such as searching, sorting, or iterating through data structures.\n",
    "\n",
    "There were also a few other things in our while loop implementation, such as the [if else statement](https://docs.julialang.org/en/v1/base/control-flow/#if-elseif-else).  This is an example of [conditional evaluation](https://docs.julialang.org/en/v1/manual/control-flow/#man-conditional-evaluation) that allows us to execute different blocks of code based on whether a condition is true or false. \n",
    "\n",
    "___"
   ]
  },
  {
   "cell_type": "markdown",
   "id": "0eb9cefc",
   "metadata": {},
   "source": []
  }
 ],
 "metadata": {
  "kernelspec": {
   "display_name": "Julia 1.11.6",
   "language": "julia",
   "name": "julia-1.11"
  },
  "language_info": {
   "file_extension": ".jl",
   "mimetype": "application/julia",
   "name": "julia",
   "version": "1.11.6"
  }
 },
 "nbformat": 4,
 "nbformat_minor": 5
}
