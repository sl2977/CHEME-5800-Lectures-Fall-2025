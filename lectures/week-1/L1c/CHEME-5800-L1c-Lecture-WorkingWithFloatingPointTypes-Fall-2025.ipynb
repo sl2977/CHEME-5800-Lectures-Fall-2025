{
 "cells": [
  {
   "cell_type": "markdown",
   "id": "3674061c-9231-46cc-bddf-fb5bfddc5d2b",
   "metadata": {},
   "source": [
    "# L1c: A Deeper Dive into Numbers and Floating-Point Types\n",
    "In this lecture, we will drill into the representation of floating-point numbers.\n",
    "\n",
    "We work with numerical data in science, technology, engineering, and mathematics (STEM) all the time. But have you ever stopped to wonder how computers actually represent (and manipulate) numbers? Let's explore the secret life of common floating-point data types, how they are represented in memory, and the precision associated with each type.\n",
    "\n",
    "> __Key (surprising) fact__: Integer values on computers are __exact__ representations. However, all floating-point numbers are __approximations__! A floating-point value uses a _fixed number of bits_ to store a value, so it can only represent a finite set of rational values rather than the continuum of real numbers. Thus, any real number must be rounded to the nearest floating-point value, making every floating-point value an approximation.\n",
    "\n",
    "The typical floating-point number types you will likely encounter in applications are `Float16`, `Float32`, and `Float64`. But what do these numbers mean? For example, what do the `16`, `32`, and `64` mean in `FloatXX`, what precision can these numbers describe, and how are they represented in memory?\n",
    "\n",
    "**What we'll cover:** On conventional (non-quantum) hardware, floating-point numbers are stored as binary values (base `2`). Let's start by reviewing base-`b` positional notation, then examine integer bitstrings and finally dig into floating-point formats.\n",
    "\n",
    "I'm pumped to explore the secret life of floating-point numbers with you!"
   ]
  },
  {
   "cell_type": "markdown",
   "id": "ca74b7e5-c971-42c5-b405-ce8a96db5a1b",
   "metadata": {},
   "source": [
    "___"
   ]
  },
  {
   "cell_type": "markdown",
   "id": "559462cd",
   "metadata": {},
   "source": [
    "## Setup, Data, and Prerequisites\n",
    "First, we set up the computational environment by including the `Include.jl` file and loading any needed resources.\n",
    "\n",
    "The [include command](https://docs.julialang.org/en/v1/base/base/#include) evaluates the contents of the input source file, `Include.jl`, in the notebook's global scope. The `Include.jl` file sets paths, loads required external packages, etc. For additional information on functions and types used in this material, see the [Julia programming language documentation](https://docs.julialang.org/en/v1/). "
   ]
  },
  {
   "cell_type": "code",
   "execution_count": null,
   "id": "23b63f21",
   "metadata": {},
   "outputs": [
    {
     "name": "stderr",
     "output_type": "stream",
     "text": [
      "\u001b[32m\u001b[1m    Updating\u001b[22m\u001b[39m git-repo `https://github.com/varnerlab/VLDataScienceMachineLearningPackage.jl.git`\n",
      "\u001b[32m\u001b[1m   Resolving\u001b[22m\u001b[39m package versions...\n",
      "\u001b[32m\u001b[1m   Installed\u001b[22m\u001b[39m LERC_jll ───────────────────── v4.0.1+0\n",
      "\u001b[32m\u001b[1m   Installed\u001b[22m\u001b[39m JpegTurbo_jll ──────────────── v3.1.2+0\n",
      "\u001b[32m\u001b[1m   Installed\u001b[22m\u001b[39m Libmount_jll ───────────────── v2.41.1+0\n",
      "\u001b[32m\u001b[1m   Installed\u001b[22m\u001b[39m libfdk_aac_jll ─────────────── v2.0.4+0\n",
      "\u001b[32m\u001b[1m   Installed\u001b[22m\u001b[39m x265_jll ───────────────────── v4.1.0+0\n",
      "\u001b[32m\u001b[1m   Installed\u001b[22m\u001b[39m libdecor_jll ───────────────── v0.2.2+0\n",
      "\u001b[32m\u001b[1m   Installed\u001b[22m\u001b[39m LoggingExtras ──────────────── v1.1.0\n",
      "\u001b[32m\u001b[1m   Installed\u001b[22m\u001b[39m GR_jll ─────────────────────── v0.73.17+0\n",
      "\u001b[32m\u001b[1m   Installed\u001b[22m\u001b[39m Opus_jll ───────────────────── v1.5.2+0\n",
      "\u001b[32m\u001b[1m   Installed\u001b[22m\u001b[39m Measures ───────────────────── v0.3.2\n",
      "\u001b[32m\u001b[1m   Installed\u001b[22m\u001b[39m Pidfile ────────────────────── v1.3.0\n",
      "\u001b[32m\u001b[1m   Installed\u001b[22m\u001b[39m ConcurrentUtilities ────────── v2.5.0\n",
      "\u001b[32m\u001b[1m   Installed\u001b[22m\u001b[39m Xorg_xkbcomp_jll ───────────── v1.4.7+0\n",
      "\u001b[32m\u001b[1m   Installed\u001b[22m\u001b[39m RelocatableFolders ─────────── v1.0.1\n",
      "\u001b[32m\u001b[1m   Installed\u001b[22m\u001b[39m Unitful ────────────────────── v1.24.0\n",
      "\u001b[32m\u001b[1m   Installed\u001b[22m\u001b[39m Xorg_xcb_util_wm_jll ───────── v0.4.2+0\n",
      "\u001b[32m\u001b[1m   Installed\u001b[22m\u001b[39m RecipesPipeline ────────────── v0.6.12\n",
      "\u001b[32m\u001b[1m   Installed\u001b[22m\u001b[39m Xorg_xcb_util_image_jll ────── v0.4.1+0\n",
      "\u001b[32m\u001b[1m   Installed\u001b[22m\u001b[39m Grisu ──────────────────────── v1.0.2\n",
      "\u001b[32m\u001b[1m   Installed\u001b[22m\u001b[39m PlotUtils ──────────────────── v1.4.3\n",
      "\u001b[32m\u001b[1m   Installed\u001b[22m\u001b[39m OpenSSL ────────────────────── v1.5.0\n",
      "\u001b[32m\u001b[1m   Installed\u001b[22m\u001b[39m DelimitedFiles ─────────────── v1.9.1\n",
      "\u001b[32m\u001b[1m   Installed\u001b[22m\u001b[39m Xorg_libSM_jll ─────────────── v1.2.6+0\n",
      "\u001b[32m\u001b[1m   Installed\u001b[22m\u001b[39m Cairo_jll ──────────────────── v1.18.5+0\n",
      "\u001b[32m\u001b[1m   Installed\u001b[22m\u001b[39m Xorg_xcb_util_jll ──────────── v0.4.1+0\n",
      "\u001b[32m\u001b[1m   Installed\u001b[22m\u001b[39m Xorg_libxkbfile_jll ────────── v1.1.3+0\n",
      "\u001b[32m\u001b[1m   Installed\u001b[22m\u001b[39m Fontconfig_jll ─────────────── v2.17.1+0\n",
      "\u001b[32m\u001b[1m   Installed\u001b[22m\u001b[39m HTTP ───────────────────────── v1.10.17\n",
      "\u001b[32m\u001b[1m   Installed\u001b[22m\u001b[39m Xorg_libXinerama_jll ───────── v1.1.6+0\n",
      "\u001b[32m\u001b[1m   Installed\u001b[22m\u001b[39m Xorg_libXau_jll ────────────── v1.0.13+0\n",
      "\u001b[32m\u001b[1m   Installed\u001b[22m\u001b[39m EpollShim_jll ──────────────── v0.0.20230411+1\n",
      "\u001b[32m\u001b[1m   Installed\u001b[22m\u001b[39m Showoff ────────────────────── v1.0.3\n",
      "\u001b[32m\u001b[1m   Installed\u001b[22m\u001b[39m FFMPEG ─────────────────────── v0.4.4\n",
      "\u001b[32m\u001b[1m   Installed\u001b[22m\u001b[39m Pango_jll ──────────────────── v1.56.3+0\n",
      "\u001b[32m\u001b[1m   Installed\u001b[22m\u001b[39m WebIO ──────────────────────── v0.8.21\n",
      "\u001b[32m\u001b[1m   Installed\u001b[22m\u001b[39m Xorg_xcb_util_keysyms_jll ──── v0.4.1+0\n",
      "\u001b[32m\u001b[1m   Installed\u001b[22m\u001b[39m xkbcommon_jll ──────────────── v1.9.2+0\n",
      "\u001b[32m\u001b[1m   Installed\u001b[22m\u001b[39m XZ_jll ─────────────────────── v5.8.1+0\n",
      "\u001b[32m\u001b[1m   Installed\u001b[22m\u001b[39m PlotThemes ─────────────────── v3.3.0\n",
      "\u001b[32m\u001b[1m   Installed\u001b[22m\u001b[39m Bzip2_jll ──────────────────── v1.0.9+0\n",
      "\u001b[32m\u001b[1m   Installed\u001b[22m\u001b[39m SimpleBufferStream ─────────── v1.2.0\n",
      "\u001b[32m\u001b[1m   Installed\u001b[22m\u001b[39m HarfBuzz_jll ───────────────── v8.5.1+0\n",
      "\u001b[32m\u001b[1m   Installed\u001b[22m\u001b[39m GR ─────────────────────────── v0.73.17\n",
      "\u001b[32m\u001b[1m   Installed\u001b[22m\u001b[39m LZO_jll ────────────────────── v2.10.3+0\n",
      "\u001b[32m\u001b[1m   Installed\u001b[22m\u001b[39m fzf_jll ────────────────────── v0.61.1+0\n",
      "\u001b[32m\u001b[1m   Installed\u001b[22m\u001b[39m UnicodeFun ─────────────────── v0.4.1\n",
      "\u001b[32m\u001b[1m   Installed\u001b[22m\u001b[39m MbedTLS ────────────────────── v1.1.9\n",
      "\u001b[32m\u001b[1m   Installed\u001b[22m\u001b[39m GLFW_jll ───────────────────── v3.4.0+2\n",
      "\u001b[32m\u001b[1m   Installed\u001b[22m\u001b[39m AssetRegistry ──────────────── v0.1.0\n",
      "\u001b[32m\u001b[1m   Installed\u001b[22m\u001b[39m FriBidi_jll ────────────────── v1.0.17+0\n",
      "\u001b[32m\u001b[1m   Installed\u001b[22m\u001b[39m x264_jll ───────────────────── v10164.0.1+0\n",
      "\u001b[32m\u001b[1m   Installed\u001b[22m\u001b[39m Colors ─────────────────────── v0.12.11\n",
      "\u001b[32m\u001b[1m   Installed\u001b[22m\u001b[39m FreeType2_jll ──────────────── v2.13.4+0\n",
      "\u001b[32m\u001b[1m   Installed\u001b[22m\u001b[39m Xorg_libxcb_jll ────────────── v1.17.1+0\n",
      "\u001b[32m\u001b[1m   Installed\u001b[22m\u001b[39m JLFzf ──────────────────────── v0.1.11\n",
      "\u001b[32m\u001b[1m   Installed\u001b[22m\u001b[39m libpng_jll ─────────────────── v1.6.50+0\n",
      "\u001b[32m\u001b[1m   Installed\u001b[22m\u001b[39m mtdev_jll ──────────────────── v1.1.7+0\n",
      "\u001b[32m\u001b[1m   Installed\u001b[22m\u001b[39m libaom_jll ─────────────────── v3.12.1+0\n",
      "\u001b[32m\u001b[1m   Installed\u001b[22m\u001b[39m ExceptionUnwrapping ────────── v0.1.11\n",
      "\u001b[32m\u001b[1m   Installed\u001b[22m\u001b[39m Scratch ────────────────────── v1.3.0\n",
      "\u001b[32m\u001b[1m   Installed\u001b[22m\u001b[39m Dbus_jll ───────────────────── v1.16.2+0\n",
      "\u001b[32m\u001b[1m   Installed\u001b[22m\u001b[39m ColorTypes ─────────────────── v0.11.5\n",
      "\u001b[32m\u001b[1m   Installed\u001b[22m\u001b[39m Zstd_jll ───────────────────── v1.5.7+1\n",
      "\u001b[32m\u001b[1m   Installed\u001b[22m\u001b[39m Xorg_libXext_jll ───────────── v1.3.7+0\n",
      "\u001b[32m\u001b[1m   Installed\u001b[22m\u001b[39m WebSockets ─────────────────── v1.6.0\n",
      "\u001b[32m\u001b[1m   Installed\u001b[22m\u001b[39m eudev_jll ──────────────────── v3.2.14+0\n",
      "\u001b[32m\u001b[1m   Installed\u001b[22m\u001b[39m Xorg_xcb_util_cursor_jll ───── v0.1.5+0\n",
      "\u001b[32m\u001b[1m   Installed\u001b[22m\u001b[39m Expat_jll ──────────────────── v2.7.1+0\n",
      "\u001b[32m\u001b[1m   Installed\u001b[22m\u001b[39m Plots ──────────────────────── v1.40.19\n",
      "\u001b[32m\u001b[1m   Installed\u001b[22m\u001b[39m Format ─────────────────────── v1.3.7\n",
      "\u001b[32m\u001b[1m   Installed\u001b[22m\u001b[39m Libffi_jll ─────────────────── v3.4.7+0\n",
      "\u001b[32m\u001b[1m   Installed\u001b[22m\u001b[39m ColorVectorSpace ───────────── v0.10.0\n",
      "\u001b[32m\u001b[1m   Installed\u001b[22m\u001b[39m Libtiff_jll ────────────────── v4.7.1+0\n",
      "\u001b[32m\u001b[1m   Installed\u001b[22m\u001b[39m libevdev_jll ───────────────── v1.13.4+0\n",
      "\u001b[32m\u001b[1m   Installed\u001b[22m\u001b[39m Xorg_libXrender_jll ────────── v0.9.12+0\n",
      "\u001b[32m\u001b[1m   Installed\u001b[22m\u001b[39m libinput_jll ───────────────── v1.28.1+0\n",
      "\u001b[32m\u001b[1m   Installed\u001b[22m\u001b[39m Ogg_jll ────────────────────── v1.3.6+0\n",
      "\u001b[32m\u001b[1m   Installed\u001b[22m\u001b[39m Xorg_libXi_jll ─────────────── v1.8.3+0\n",
      "\u001b[32m\u001b[1m   Installed\u001b[22m\u001b[39m Vulkan_Loader_jll ──────────── v1.3.243+0\n",
      "\u001b[32m\u001b[1m   Installed\u001b[22m\u001b[39m Qt6Declarative_jll ─────────── v6.8.2+1\n",
      "\u001b[32m\u001b[1m   Installed\u001b[22m\u001b[39m Knockout ───────────────────── v0.2.6\n",
      "\u001b[32m\u001b[1m   Installed\u001b[22m\u001b[39m MacroTools ─────────────────── v0.5.16\n",
      "\u001b[32m\u001b[1m   Installed\u001b[22m\u001b[39m Qt6ShaderTools_jll ─────────── v6.8.2+1\n",
      "\u001b[32m\u001b[1m   Installed\u001b[22m\u001b[39m Libuuid_jll ────────────────── v2.41.1+0\n",
      "\u001b[32m\u001b[1m   Installed\u001b[22m\u001b[39m Interact ───────────────────── v0.10.5\n",
      "\u001b[32m\u001b[1m   Installed\u001b[22m\u001b[39m Xorg_libXcursor_jll ────────── v1.2.4+0\n",
      "\u001b[32m\u001b[1m   Installed\u001b[22m\u001b[39m Widgets ────────────────────── v0.6.7\n",
      "\u001b[32m\u001b[1m   Installed\u001b[22m\u001b[39m Xorg_xcb_util_renderutil_jll ─ v0.3.10+0\n",
      "\u001b[32m\u001b[1m   Installed\u001b[22m\u001b[39m Xorg_libICE_jll ────────────── v1.1.2+0\n",
      "\u001b[32m\u001b[1m   Installed\u001b[22m\u001b[39m Graphite2_jll ──────────────── v1.3.15+0\n",
      "\u001b[32m\u001b[1m   Installed\u001b[22m\u001b[39m StableRNGs ─────────────────── v1.0.3\n",
      "\u001b[32m\u001b[1m   Installed\u001b[22m\u001b[39m libass_jll ─────────────────── v0.17.4+0\n",
      "\u001b[32m\u001b[1m   Installed\u001b[22m\u001b[39m Wayland_jll ────────────────── v1.24.0+0\n",
      "\u001b[32m\u001b[1m   Installed\u001b[22m\u001b[39m Pixman_jll ─────────────────── v0.44.2+0\n",
      "\u001b[32m\u001b[1m   Installed\u001b[22m\u001b[39m Latexify ───────────────────── v0.16.9\n",
      "\u001b[32m\u001b[1m   Installed\u001b[22m\u001b[39m JSExpr ─────────────────────── v0.5.4\n",
      "\u001b[32m\u001b[1m   Installed\u001b[22m\u001b[39m OpenSSL_jll ────────────────── v3.5.2+0\n",
      "\u001b[32m\u001b[1m   Installed\u001b[22m\u001b[39m Xorg_xtrans_jll ────────────── v1.6.0+0\n",
      "\u001b[32m\u001b[1m   Installed\u001b[22m\u001b[39m BitFlags ───────────────────── v0.1.9\n",
      "\u001b[32m\u001b[1m   Installed\u001b[22m\u001b[39m Xorg_xkeyboard_config_jll ──── v2.44.0+0\n",
      "\u001b[32m\u001b[1m   Installed\u001b[22m\u001b[39m FFMPEG_jll ─────────────────── v7.1.1+0\n",
      "\u001b[32m\u001b[1m   Installed\u001b[22m\u001b[39m Xorg_libXrandr_jll ─────────── v1.5.5+0\n",
      "\u001b[32m\u001b[1m   Installed\u001b[22m\u001b[39m FunctionalCollections ──────── v0.5.0\n",
      "\u001b[32m\u001b[1m   Installed\u001b[22m\u001b[39m RecipesBase ────────────────── v1.3.4\n",
      "\u001b[32m\u001b[1m   Installed\u001b[22m\u001b[39m LLVMOpenMP_jll ─────────────── v18.1.8+0\n",
      "\u001b[32m\u001b[1m   Installed\u001b[22m\u001b[39m Xorg_libXfixes_jll ─────────── v6.0.1+0\n",
      "\u001b[32m\u001b[1m   Installed\u001b[22m\u001b[39m LAME_jll ───────────────────── v3.100.3+0\n",
      "\u001b[32m\u001b[1m   Installed\u001b[22m\u001b[39m Qt6Wayland_jll ─────────────── v6.8.2+1\n",
      "\u001b[32m\u001b[1m   Installed\u001b[22m\u001b[39m Qt6Base_jll ────────────────── v6.8.2+1\n",
      "\u001b[32m\u001b[1m   Installed\u001b[22m\u001b[39m Libiconv_jll ───────────────── v1.18.0+0\n",
      "\u001b[32m\u001b[1m   Installed\u001b[22m\u001b[39m GettextRuntime_jll ─────────── v0.22.4+0\n",
      "\u001b[32m\u001b[1m   Installed\u001b[22m\u001b[39m Glib_jll ───────────────────── v2.84.3+0\n",
      "\u001b[32m\u001b[1m   Installed\u001b[22m\u001b[39m URIs ───────────────────────── v1.6.1\n",
      "\u001b[32m\u001b[1m   Installed\u001b[22m\u001b[39m InteractBase ───────────────── v0.10.11\n",
      "\u001b[32m\u001b[1m   Installed\u001b[22m\u001b[39m libvorbis_jll ──────────────── v1.3.8+0\n",
      "\u001b[32m\u001b[1m   Installed\u001b[22m\u001b[39m Xorg_libXdmcp_jll ──────────── v1.1.6+0\n",
      "\u001b[32m\u001b[1m   Installed\u001b[22m\u001b[39m Xorg_libX11_jll ────────────── v1.8.12+0\n",
      "\u001b[32m\u001b[1m   Installed\u001b[22m\u001b[39m Libglvnd_jll ───────────────── v1.7.1+1\n",
      "\u001b[32m\u001b[1m   Installed\u001b[22m\u001b[39m Unzip ──────────────────────── v0.2.0\n",
      "\u001b[32m\u001b[1m   Installed\u001b[22m\u001b[39m CSSUtil ────────────────────── v0.1.1\n",
      "\u001b[32m\u001b[1m   Installed\u001b[22m\u001b[39m UnitfulLatexify ────────────── v1.7.0\n",
      "\u001b[32m\u001b[1m   Installed\u001b[22m\u001b[39m Observables ────────────────── v0.5.5\n"
     ]
    }
   ],
   "source": [
    "include(joinpath(@__DIR__, \"Include.jl\"));"
   ]
  },
  {
   "cell_type": "markdown",
   "id": "6e14303b",
   "metadata": {},
   "source": [
    "In addition to standard Julia libraries, we'll also use [the `VLDataScienceMachineLearningPackage.jl` package](https://github.com/varnerlab/VLDataScienceMachineLearningPackage.jl), check out [the documentation](https://varnerlab.github.io/VLDataScienceMachineLearningPackage.jl/dev/) for more information on the functions, types and data used in this material. "
   ]
  },
  {
   "cell_type": "markdown",
   "id": "2b55a4bb-8b15-4027-8b7b-617bc8d378b5",
   "metadata": {},
   "source": [
    "## Base b representation of numbers\n",
    "A number in base $b$ is represented by a finite sequence of digits $(d_{n}d_{n-1}\\dots{d_{1}}d_{0})_{b}$ where each digit $d_{i}$ satisfies $0\\leq d_{i} < b$. The value (in base 10) of a base-$b$ number is the positional sum:\n",
    "$$\n",
    "\\begin{align*}\n",
    "\\underbrace{(d_{n}d_{n-1}\\dots{d_{1}}d_{0})_{b}}_{\\text{base b}} = \\underbrace{\\sum_{i=0}^{n}d_{i}b^{i}}_{\\text{value in base 10}}\n",
    "\\end{align*}\n",
    "$$\n",
    "Let's use integers for a few examples to better understand this expression (and then we'll move on to floating-point numbers).\n",
    "\n",
    "Consider an `Int64` number. We know that memory storage on modern (non-quantum) hardware is binary, i.e., base $b = 2$; thus, all the digits $d_{i}$ must satisfy $0\\leq d_{i} < 2$.\n",
    "\n",
    "However, how many digits do we have, i.e., the value of $n$? This is the _word size_, i.e., the `64` in `Int64`.\n",
    "\n",
    "> __Hmmm__. Didn't we already see that? Yes — it's the length of the string output from [the `bitstring(...)` method](https://docs.julialang.org/en/v1/base/numbers/#Base.bitstring)! Let's count the number of zero digits and the number of one digits of a test 64-bit integer using the [`count_zeros(...)` method](https://docs.julialang.org/en/v1/base/numbers/#Base.count_zeros) and the [`count_ones(...)` method](https://docs.julialang.org/en/v1/base/numbers/#Base.count_ones).\n",
    "\n",
    "To check the equality condition, we use the [Julia @assert macro](https://docs.julialang.org/en/v1/base/base/#Base.@assert). If the statement passed to the [@assert macro](https://docs.julialang.org/en/v1/base/base/#Base.@assert) evaluates to `false`, i.e., the number of zeros and ones does not equal the `wordsize`, then an [AssertionError](https://docs.julialang.org/en/v1/base/base/#Core.AssertionError) is thrown, alerting us that there is an issue.\n",
    "\n",
    "> __Note__: we use [the equality `==` operator](https://docs.julialang.org/en/v1/manual/missing/#Equality-and-Comparison-Operators) (not the assignment operator `=`). There is also [the `===` comparison operator](https://docs.julialang.org/en/v1/manual/missing/#Equality-and-Comparison-Operators) in Julia, which determines whether `x` and `y` are identical in the sense that no program could distinguish them. We'll see this operator later.\n",
    "\n",
    "So, what do we see?"
   ]
  },
  {
   "cell_type": "code",
   "execution_count": null,
   "id": "06a48643-7bc4-4bc5-a4f4-5bab011fbc24",
   "metadata": {},
   "outputs": [],
   "source": [
    "let\n",
    "    wordsize = 64; # default word size\n",
    "    x = 32; # pick an integer value (Int64 value by default)\n",
    "    n = count_zeros(x) + count_ones(x); # this counts 0's and 1's (doesn't give any info about position)\n",
    "    @assert wordsize == n # see https://docs.julialang.org/en/v1/base/base/#Base.@assert\n",
    "end"
   ]
  },
  {
   "cell_type": "markdown",
   "id": "344415d4-0382-400d-a703-bf5d3d8ac931",
   "metadata": {},
   "source": [
    "### Binary numbers\n",
    "We can get the bit pattern (binary representation) of an integer by calling [the `bitstring(...)` method](https://docs.julialang.org/en/v1/base/numbers/#Base.bitstring), but there is a __wrinkle__.\n",
    "\n",
    "> __Wrinkle__: the [`bitstring(...)` method](https://docs.julialang.org/en/v1/base/numbers/#Base.bitstring) returns the bit pattern as a `String`. We'll have to convert that `String` to an array of `0` and `1` to do any computation with these values. More on that shortly.\n",
    "\n",
    "The positions of the `0` and `1` values in the binary number give the number's value. Suppose we get the bit pattern, i.e., the positions of the digits of some integer value `x::Int`, using [the `bitstring(...)` method](https://docs.julialang.org/en/v1/base/numbers/#Base.bitstring) and save this value in the `s::String`."
   ]
  },
  {
   "cell_type": "code",
   "execution_count": null,
   "id": "9ddbefd4-d94c-459c-88b6-15ced4a7f639",
   "metadata": {},
   "outputs": [],
   "source": [
    "sₒ,xₒ = let\n",
    "    x = 45678; # Int64 value by default\n",
    "    s = bitstring(x)\n",
    "    s,x\n",
    "end"
   ]
  },
  {
   "cell_type": "markdown",
   "id": "a41546b8-0507-425d-9aa6-97476e8b21d2",
   "metadata": {},
   "source": [
    "For the binary string $s$, we sum powers of 2 (the $b^{i}$ terms in the sum) for positions whose digit is `1`, processing the string from right to left. Let's make this more concrete.\n",
    "\n",
    "> __Hypothesis__: We should be able to process the string `s` (compute its positional sum) and recover the integer that generated it. To do this we'll use a few techniques we haven't covered yet. Don't worry about the implementation for now.  \n",
    "\n",
    "To check our hypothesis, we need to do a few things. The first is to convert the bit pattern in `s::String` into an array of numbers (so we can compute the positional sum). \n",
    "\n",
    "The following logic contains a few advanced things, e.g., working with arrays and [`String` and `Char` types](https://docs.julialang.org/en/v1/manual/strings/#man-strings), function piping (`|>`), etc.; don't worry too much about the details yet:"
   ]
  },
  {
   "cell_type": "code",
   "execution_count": null,
   "id": "1c1674bb-63b7-448f-bcd5-0bff33891e5b",
   "metadata": {},
   "outputs": [],
   "source": [
    "bit_pattern_array = bitstring(xₒ) |> collect |> reverse .|> x-> parse(Int,x) # This is a magical line!"
   ]
  },
  {
   "cell_type": "markdown",
   "id": "03a62a12-939f-49cd-a173-942545be8de6",
   "metadata": {},
   "source": [
    "__Hmmm__. Okay — we can convert the string to an `Array{Int64,1}`, which is good. However, arrays in Julia are `1`-based, meaning the first index in the array occurs at index `1`. But our positional expressions assume zero-based indexing (first value at index `0`). Can we make a zero-based array in Julia?\n",
    "\n",
    "* __Hack__: Yes — we can copy `bit_pattern_array` into a dictionary (which we can make 0-based), called `bit_pattern_dictionary::Dict{Int64,Int64}`. This allows us to start counting from 0 instead of 1.\n",
    "* __Proper solution__: In addition to this hack (which is convenient), a cleaner solution is to use [an `OffsetArray` from the `OffsetArrays.jl` package](https://github.com/JuliaArrays/OffsetArrays.jl) to fix the 1-based indexing."
   ]
  },
  {
   "cell_type": "code",
   "execution_count": null,
   "id": "90a9ca01-ddd6-4d0b-8e40-8119ee942c47",
   "metadata": {},
   "outputs": [],
   "source": [
    "bit_pattern_dictionary = let\n",
    "    bit_pattern_dictionary = Dict{Int64,Int64}(); # Declare memory\n",
    "    for i ∈ eachindex(bit_pattern_array)\n",
    "        bit_pattern_dictionary[i-1] = bit_pattern_array[i] # what are we doing here?\n",
    "    end\n",
    "    bit_pattern_dictionary; # return the 0-based mapping\n",
    "end\n"
   ]
  },
  {
   "cell_type": "code",
   "execution_count": null,
   "id": "0417e9f0-df0c-46e1-ad03-ba1b9f99deac",
   "metadata": {},
   "outputs": [],
   "source": [
    "bit_pattern_dictionary[4]"
   ]
  },
  {
   "cell_type": "markdown",
   "id": "361b7b3f-1a4c-4c24-b0ea-adcc0461411c",
   "metadata": {},
   "source": [
    "Finally, let's compute the positional sum and see what our number is."
   ]
  },
  {
   "cell_type": "code",
   "execution_count": null,
   "id": "24bd9e3e-4c6d-4f02-b116-dd16fff714dd",
   "metadata": {},
   "outputs": [],
   "source": [
    "let\n",
    "\n",
    "    b = 2; # What base do we have?\n",
    "    count = 0; # if this works, when we are finished, this should be our original number\n",
    "    positions = keys(bit_pattern_dictionary) |> collect |> sort; # what is going on here? (we're iterating the 0-based bit_pattern_dictionary)\n",
    "    for i ∈ positions\n",
    "        dᵢ = bit_pattern_dictionary[i];\n",
    "        count+= (dᵢ)*(b^i) # what is += doing?\n",
    "    end\n",
    "    println(\"Was original your number $(count)?\")\n",
    "end\n"
   ]
  },
  {
   "cell_type": "markdown",
   "id": "382bb09e",
   "metadata": {},
   "source": [
    "___"
   ]
  },
  {
   "cell_type": "markdown",
   "id": "4dca20d2-dc88-4d0c-8dff-36745bb1c19b",
   "metadata": {},
   "source": [
    "### Beyond binary numbers\n",
    "There are many everyday applications for base $b>2$ numbers! Larger bases like decimal (base 10), dozenal (base 12), and sexagesimal (base 60) exist in everyday measurements and commerce. There are also a few others that you may encounter every day, but not realize it:\n",
    "> __Hexadecimal (base 16)__ compactly encodes binary data for color codes; for example, Cornell red is `#B31B1B`, while base 32/64 are used to encode arbitrary binary data (e-mail attachments, URLs, certificates) into printable characters.\n",
    "\n",
    "Though higher bases require a more complex digit set, they dramatically shorten the representation of large values."
   ]
  },
  {
   "cell_type": "markdown",
   "id": "37121074-4f7e-4c3b-bbe1-5fbdc4a490f3",
   "metadata": {},
   "source": [
    "#### Digits Example\n",
    "Let's consider an octal (base 8) example. Instead of calling [the `bitstring(...)` method](https://docs.julialang.org/en/v1/base/numbers/#Base.bitstring) (which always returns a base $b=2$ value), let's explore [the `digits(...)` method](https://docs.julialang.org/en/v1/base/numbers/#Base.digits). The [`digits(...)` method](https://docs.julialang.org/en/v1/base/numbers/#Base.digits) takes a `number,` a `base,` and a `pad` argument and returns the bit pattern for `number` written with respect to `base` assuming a word size equal to `pad.`\n",
    " > __Octal__: Let's use [the `digits(...)` method](https://docs.julialang.org/en/v1/base/numbers/#Base.digits) to get the bit pattern for $n = 74$ written in `base = 8` for a `16-bit` machine. Save this data in the `bit_pattern_array::Vector{Int64}` variable."
   ]
  },
  {
   "cell_type": "code",
   "execution_count": null,
   "id": "2074e193-c0af-46d1-b7c7-a7c7458c44e7",
   "metadata": {},
   "outputs": [],
   "source": [
    "bit_pattern_array_octal = digits(74, base=8, pad=16) # produces the bit pattern for a base 8 number"
   ]
  },
  {
   "cell_type": "markdown",
   "id": "4acaed83-c36d-4b8f-b5d7-510f95b2fb10",
   "metadata": {},
   "source": [
    "__Check__: Let's convert the octal number stored in the `bit_pattern_array_octal::Array{Int64,1}` variable back into base 10 by computing the positional sum in base 8."
   ]
  },
  {
   "cell_type": "code",
   "execution_count": null,
   "id": "e9f0794a-1d3d-4f87-ad18-9cc198be6c98",
   "metadata": {},
   "outputs": [],
   "source": [
    "let\n",
    "    # initialize -\n",
    "    bit_pattern_dictionary = Dict{Int64,Int64}();\n",
    "    b = 8.0; # base 8 number of the example (\n",
    "    wordsize = 16;\n",
    "    foreach(i -> bit_pattern_dictionary[i-1] = bit_pattern_array_octal[i], \n",
    "        eachindex(bit_pattern_array_octal)); # compact syntax for building bit dict\n",
    "\n",
    "    # loop -\n",
    "    value = 0.0;\n",
    "    bitrangearray = range(0,stop=(wordsize-1),step=1) |> collect;\n",
    "    for i ∈ bitrangearray\n",
    "         dᵢ = bit_pattern_dictionary[i];\n",
    "         value += (dᵢ)*(b^i)\n",
    "    end\n",
    "\n",
    "    value\n",
    "end"
   ]
  },
  {
   "cell_type": "markdown",
   "id": "2ffa7daf",
   "metadata": {},
   "source": [
    "___"
   ]
  },
  {
   "cell_type": "markdown",
   "id": "d4fb3d79-54b6-4498-95e2-5225f4f2c899",
   "metadata": {},
   "source": [
    "## Floating-point numbers\n",
    "Now that we have seen how integers are laid out in memory, let's explore floating-point formats: `Float16`, `Float32`, and `Float64`. Why have multiple floating-point precisions?\n",
    "\n",
    ">Using multiple floating-point types lets us balance precision and resource usage for different applications:\n",
    "> * `Float16` (half-precision) minimizes memory footprint at the expense of precision — useful for large-scale machine learning inference or graphics where fine precision isn't critical.\n",
    "> * `Float32` (single-precision) offers a good compromise of speed and accuracy for many numerical and real-time workloads.\n",
    "> * `Float64` (double-precision) provides high precision and a wide exponent range needed in scientific computing, simulations, and financial modeling where rounding errors must be controlled.\n",
    "\n",
    "If we need more precision than `Float64`, specialized packages (for example, `Quadmath.jl`) offer larger types such as `Float128`."
   ]
  },
  {
   "cell_type": "markdown",
   "id": "0056b968",
   "metadata": {},
   "source": [
    "<div>\n",
    "    <center>\n",
    "        <img src=\"figs/Fig-64-bit-label-pattern.svg\" width=\"580\"/>\n",
    "    </center>\n",
    "</div>"
   ]
  },
  {
   "cell_type": "markdown",
   "id": "f6141964-eccb-482c-b651-2814b1debcbc",
   "metadata": {},
   "source": [
    "### Example: Memory Layout Float64\n",
    "Suppose we have a floating-point number $x\\in\\mathbb{R}$ that is approximated as a 64-bit value in memory. A 64-bit value $x\\in\\mathbb{R}$ is encoded in memory as:\n",
    "$$\n",
    "\\begin{align*}\n",
    "x = \\underbrace{S}_{\\text{sign}}\\times\\underbrace{\\text{significand}}_{\\text{fraction}}\\times\\underbrace{{2^{E-1023}}}_{\\text{scale}}\n",
    "\\end{align*}\n",
    "$$\n",
    "where:\n",
    "$$\n",
    "\\begin{align*}\n",
    "S &= -1^{d_{63}}\\\\\n",
    "\\text{significand} &= 1 + \\sum_{i = 1}^{52}d_{52-i}2^{-i}\\\\\n",
    "E &= \\sum_{i=52}^{62}d_{i}2^{i - 52}\n",
    "\\end{align*}\n",
    "$$\n",
    "The 64- and 32-bit formats differ in the number of bits allocated to the significand and exponent and in the position of the sign bit; otherwise they follow the same structural layout.\n",
    "\n",
    "Let's compute the components of an example 64-bit floating-point value and see if we can reconstruct the original number. First, choose a test value for $x$:"
   ]
  },
  {
   "cell_type": "code",
   "execution_count": null,
   "id": "9207053f-0cc6-4697-a6d9-358652aaefce",
   "metadata": {},
   "outputs": [],
   "source": [
    "x = 3.1415926535897; # example 64-bit floating point number, let's use π"
   ]
  },
  {
   "cell_type": "markdown",
   "id": "f52e60cc-51a2-4176-bf6f-560ad0c86147",
   "metadata": {},
   "source": [
    "Next, we'll use [the `bitstring(...)` method](https://docs.julialang.org/en/v1/base/numbers/#Base.bitstring) to get the 64-bit binary String, then we'll convert that into a 0-based bit pattern dictionary which we save in the `d::Dict{Int64,Int64}` variable:"
   ]
  },
  {
   "cell_type": "code",
   "execution_count": null,
   "id": "d6e23ac2-b44d-4d07-81f4-47a4da751c37",
   "metadata": {},
   "outputs": [],
   "source": [
    "d = let\n",
    "\n",
    "    # initialize -\n",
    "    bitpattern_dictionary = Dict{Int64,Int64}();\n",
    "    wordsize = 64; # how big is the word size?\n",
    "    a = bitstring(x) |> reverse |> collect .|> v-> parse(Int64,v) # fancy. Nothing to see here, move along (for now anyway).\n",
    "    \n",
    "    # put stuff in the bit pattern dictionary\n",
    "    for i ∈ 0:(wordsize-1)\n",
    "        bitpattern_dictionary[i] = a[i+1];\n",
    "    end\n",
    "    bitpattern_dictionary # return the dictionary\n",
    "end"
   ]
  },
  {
   "cell_type": "markdown",
   "id": "7d8ccbe1-10e6-4408-8dfe-dbcd9651fff7",
   "metadata": {},
   "source": [
    "#### Sign term\n",
    "Now that we have the bit pattern dictionary `d::Dict{Int64, Int64}`, we can compute the components of the 64-bit floating point number. Let's start with the sign value `S::Int64`:"
   ]
  },
  {
   "cell_type": "code",
   "execution_count": null,
   "id": "ef632009-95dc-4ca6-8461-bfe6644e0ff2",
   "metadata": {},
   "outputs": [],
   "source": [
    "S = let\n",
    "    s = d[63]; # sign bit is at d63\n",
    "    S = (-1)^s # if d63 = 1, we'll have a negative number, d63 = 0 gives us a positive number\n",
    "end"
   ]
  },
  {
   "cell_type": "markdown",
   "id": "f369ab3a-2692-4cdc-b8d0-79e7e16d3a0a",
   "metadata": {},
   "source": [
    "#### Significand\n",
    "Next, we'll compute the significand using the expression above. We'll also check our computed value using [the `significand(...)` method](https://docs.julialang.org/en/v1/base/numbers/#Base.Math.significand) to make sure we are correct. We'll store our calculated value in the `calculated_significand_value::Float64` variable:"
   ]
  },
  {
   "cell_type": "code",
   "execution_count": null,
   "id": "b5a7ec27-6fc7-485d-bf4e-e0673476c114",
   "metadata": {},
   "outputs": [],
   "source": [
    "calculated_significand_value = let\n",
    "\n",
    "    calculated_significand_value = 0.0;\n",
    "    b = 2.0; # binary, base = 2\n",
    "    lsb = 1; # lsb = least significant bit\n",
    "    msb = 52; # msb = most significan bit\n",
    "    significand_range_array = range(lsb,stop=msb,step=1) |> collect; # range of digits used for the fraction\n",
    "\n",
    "    # loop: process each bit in the significand_range_array -\n",
    "    for i ∈ significand_range_array\n",
    "        calculated_significand_value += (b^(-i))*d[msb-i]\n",
    "    end\n",
    "    calculated_significand_value + 1 # don't forget to add 1\n",
    "end"
   ]
  },
  {
   "cell_type": "markdown",
   "id": "72e518c1-ecec-4eaa-ab86-6031558d1baf",
   "metadata": {},
   "source": [
    "__Check__: Let's use [the `@assert` macro](https://docs.julialang.org/en/v1/base/base/#Base.@assert) to check our calculated significand value against the output of [the `significand(...)` method](https://docs.julialang.org/en/v1/base/numbers/#Base.Math.significand) using [the `==` comparison operator](https://docs.julialang.org/en/v1/manual/missing/#Equality-and-Comparison-Operators). \n",
    "> __What happens?__ If [the `==` comparison](https://docs.julialang.org/en/v1/manual/missing/#Equality-and-Comparison-Operators) comes back `false`, [an `AssertionError` is thrown](https://docs.julialang.org/en/v1/base/base/#Core.AssertionError) (and we know something is wrong with our calculation):\n",
    "\n",
    "So what happens?"
   ]
  },
  {
   "cell_type": "code",
   "execution_count": null,
   "id": "c547ccbf-f820-41b0-b1e8-a65b2b335ab0",
   "metadata": {},
   "outputs": [],
   "source": [
    "@assert significand(x) == calculated_significand_value # compare built-in versus our calculated value"
   ]
  },
  {
   "cell_type": "markdown",
   "id": "08e7a80e-1337-41c1-acac-782765a8b7ef",
   "metadata": {},
   "source": [
    "#### Exponent scale term: \n",
    "Lastly, let's compute the exponent value $E$, which gives us the scale of the number. We'll save this value in the `E::Float64` variable:"
   ]
  },
  {
   "cell_type": "code",
   "execution_count": null,
   "id": "f0370649-5b96-4e0c-845f-99cdc9f10bc9",
   "metadata": {},
   "outputs": [],
   "source": [
    "E = let\n",
    "\n",
    "    # initialize \n",
    "    calculated_exponent_value = 0.0;\n",
    "    b = 2.0; # binary, base = 2\n",
    "    lsb = 52; # least significant bit\n",
    "    msb = 62; # most significant bit\n",
    "    exponent_bit_range_array = range(lsb,stop=msb, step = 1) |> collect; # range of bits for E\n",
    "\n",
    "    # loop: Let's process each of the bits in exponent_bit_range_array -\n",
    "    for i ∈ exponent_bit_range_array\n",
    "        calculated_exponent_value += d[i]*(b^(i-lsb))\n",
    "    end\n",
    "    calculated_exponent_value # return\n",
    "end"
   ]
  },
  {
   "cell_type": "markdown",
   "id": "79b9c17d-ed70-4dbc-a1d0-0ebb98445d3f",
   "metadata": {},
   "source": [
    "#### Do we get the same number $x$?\n",
    "If our implementation is correct, we should be able to reconstruct the original 64-bit value $x$ from its bit pattern.\n",
    "\n",
    "We'll use the `@assert` macro to compare our reconstructed value with the original `x`. If the comparison fails, an `AssertionError` will indicate an issue with the calculation."
   ]
  },
  {
   "cell_type": "code",
   "execution_count": null,
   "id": "f9d75eaa-2dc2-48fc-b057-f1aac8a5fb02",
   "metadata": {},
   "outputs": [],
   "source": [
    "let\n",
    "    our_calculated_value = S*calculated_significand_value*2^(E - 1023);\n",
    "    @assert our_calculated_value == x # same value for x?\n",
    "end"
   ]
  },
  {
   "cell_type": "markdown",
   "id": "3da6a292",
   "metadata": {},
   "source": [
    "## Lab\n",
    "In Lab `L1d`, we will base 16 number types in Julia, and how these numbers are used to represent character data, which is the building block of Strings in Julia and other languages."
   ]
  },
  {
   "cell_type": "markdown",
   "id": "49771386",
   "metadata": {},
   "source": [
    "## Want some more?\n",
    "If you want some more examples of the layout of floating point numbers, then check out these two example notebooks."
   ]
  },
  {
   "cell_type": "markdown",
   "id": "b3d7d948",
   "metadata": {},
   "source": [
    "# Today?\n",
    "That's a wrap! What are some of the interesting things we discussed today?"
   ]
  }
 ],
 "metadata": {
  "kernelspec": {
   "display_name": "Julia 1.11.6",
   "language": "julia",
   "name": "julia-1.11"
  },
  "language_info": {
   "file_extension": ".jl",
   "mimetype": "application/julia",
   "name": "julia",
   "version": "1.11.6"
  }
 },
 "nbformat": 4,
 "nbformat_minor": 5
}
